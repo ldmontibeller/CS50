{
  "nbformat": 4,
  "nbformat_minor": 0,
  "metadata": {
    "colab": {
      "provenance": [],
      "toc_visible": true,
      "authorship_tag": "ABX9TyOyRJe81Ipruccnt3bnV04d",
      "include_colab_link": true
    },
    "kernelspec": {
      "name": "python3",
      "display_name": "Python 3"
    },
    "language_info": {
      "name": "python"
    }
  },
  "cells": [
    {
      "cell_type": "markdown",
      "metadata": {
        "id": "view-in-github",
        "colab_type": "text"
      },
      "source": [
        "<a href=\"https://colab.research.google.com/github/ldmontibeller/CS50/blob/main/CGCPI_notebook.ipynb\" target=\"_parent\"><img src=\"https://colab.research.google.com/assets/colab-badge.svg\" alt=\"Open In Colab\"/></a>"
      ]
    },
    {
      "cell_type": "markdown",
      "source": [
        "#**The Clarke Transformation: A Quick Recap**\n",
        "\n",
        "First, remember the purpose of the Clarke transformation: It converts three-phase quantities (like currents `ia`, `ib`, `ic` or voltages `va`, `vb`, `vc`) from a stationary reference frame tied to the physical phases into two-phase orthogonal quantities (`iα`, `iβ` or `vα`, `vβ`) in a stationary reference frame aligned with the 'a' phase axis. A zero-sequence component (`i0` or `v0`) is often included to handle unbalanced systems or non-sinusoidal waveforms.\n",
        "\n",
        "The core idea is to simplify the analysis and control of three-phase systems by reducing the number of variables from three coupled ones to two (mostly) independent ones (α and β).\n",
        "\n",
        "**The Key Difference: What Quantity is Preserved**\n",
        "\n",
        "The difference between the \"power-invariant\" and \"amplitude-invariant\" versions lies in **which quantity remains the same** after the transformation:\n",
        "\n",
        "1.  **Amplitude-Invariant Clarke Transformation:**\n",
        "    *   **Goal:** To ensure that the **peak amplitude** of the resulting αβ space vector magnitude (`sqrt(α² + β²)`) is equal to the peak amplitude of the original balanced three-phase quantities.\n",
        "    *   **How:** This is achieved by using a scaling factor of **2/3** in the transformation matrix.\n",
        "    *   **Transformation Matrix (Currents):**\n",
        "        ```\n",
        "        [ iα ] = 2/3 * [ 1  -1/2  -1/2 ] [ ia ]\n",
        "        [ iβ ] = 2/3 * [ 0  √3/2 -√3/2 ] [ ib ]\n",
        "        [ i0 ] = 1/3 * [ 1    1     1   ] [ ic ]  // Note: Sometimes different scaling is used for i0\n",
        "        ```\n",
        "    *   **Implication:** If you have balanced phase currents `ia = Ipeak * cos(ωt)`, `ib = Ipeak * cos(ωt - 2π/3)`, `ic = Ipeak * cos(ωt + 2π/3)`, then the magnitude of the transformed vector `sqrt(iα² + iβ²) = Ipeak`. This is intuitive for visualizing the magnitude relative to phase peaks.\n",
        "    *   **Power Calculation:** The instantaneous power calculated using the transformed quantities needs a scaling factor: `P = (3/2) * (vα*iα + vβ*iβ) + v0*i0`. This must equal the original `P = va*ia + vb*ib + vc*ic`.\n",
        "\n",
        "2.  **Power-Invariant Clarke Transformation:**\n",
        "    *   **Goal:** To ensure that the **instantaneous power** calculated using the transformed αβ0 quantities is equal to the instantaneous power calculated using the original abc phase quantities, *without* needing an extra scaling factor.\n",
        "    *   **How:** This is achieved by using a scaling factor of **sqrt(2/3)** in the transformation matrix.\n",
        "    *   **Transformation Matrix (Currents):**\n",
        "        ```\n",
        "        [ iα ] = sqrt(2/3) * [ 1  -1/2  -1/2 ] [ ia ]\n",
        "        [ iβ ] = sqrt(2/3) * [ 0  √3/2 -√3/2 ] [ ib ]\n",
        "        [ i0 ] = sqrt(1/3) * [ 1    1     1   ] [ ic ] // Note: Consistent scaling for power invariance\n",
        "        ```\n",
        "    *   **Implication:** The magnitude of the transformed vector `sqrt(iα² + iβ²) = sqrt(3/2) * Ipeak`. The amplitude is scaled compared to the original phase peak.\n",
        "    *   **Power Calculation:** The instantaneous power calculation is direct: `P = vα*iα + vβ*iβ + v0*i0`. This equals the original `P = va*ia + vb*ib + vc*ic`. This form often simplifies subsequent power and torque equations, especially when combined with the Park transformation.\n",
        "\n",
        "**Summary Table:**\n",
        "\n",
        "| Feature               | Amplitude-Invariant Clarke             | Power-Invariant Clarke                |\n",
        "| :-------------------- | :------------------------------------- | :------------------------------------ |\n",
        "| **Primary Goal**      | Preserve peak amplitude              | Preserve instantaneous power          |\n",
        "| **Scaling Factor**    | `2/3`                                  | `sqrt(2/3)`                           |\n",
        "| **αβ Vector Mag.**    | `sqrt(iα²+iβ²) = Ipeak`               | `sqrt(iα²+iβ²) = sqrt(3/2)*Ipeak`    |\n",
        "| **Power Equation**    | `P = (3/2)*(vα*iα + vβ*iβ) + v0*i0` | `P = vα*iα + vβ*iβ + v0*i0`          |\n",
        "| **Zero Seq. Scaling** | Usually `1/3`                          | Usually `sqrt(1/3)`                   |\n",
        "| **Pros**              | Intuitive amplitude relationship       | Simpler power/torque equations        |\n",
        "| **Cons**              | Requires 3/2 factor for power calc.  | Amplitude relation less direct        |\n",
        "\n",
        "**Which one to use?**\n",
        "\n",
        "*   **Amplitude-Invariant:** Often preferred when directly relating control limits or measurements back to the physical phase current/voltage peaks is important. It feels more intuitive for amplitude visualization.\n",
        "*   **Power-Invariant:** Often preferred in theoretical analysis and control design where simplified power and torque expressions are beneficial. It makes the combined Clarke-Park transformation orthonormal (preserves vector lengths and angles in a specific way), which is mathematically convenient.\n",
        "\n",
        "Both transformations achieve the same fundamental goal of simplifying the three-phase system into a two-phase orthogonal system. The choice depends on whether you prioritize preserving amplitude or simplifying power calculations in the transformed reference frame."
      ],
      "metadata": {
        "id": "EFmZjSbR13-t"
      }
    },
    {
      "cell_type": "code",
      "source": [],
      "metadata": {
        "id": "Rx2uFCuq2VL4"
      },
      "execution_count": null,
      "outputs": []
    }
  ]
}